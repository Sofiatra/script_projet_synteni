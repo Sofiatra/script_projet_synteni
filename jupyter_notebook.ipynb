{
 "cells": [
  {
   "cell_type": "markdown",
   "id": "96496ff0",
   "metadata": {},
   "source": [
    "# Importation des modules et fichiers de base"
   ]
  },
  {
   "cell_type": "code",
   "execution_count": 1,
   "id": "dc041a56-94c2-4cd1-b802-74a064c747e1",
   "metadata": {
    "tags": []
   },
   "outputs": [],
   "source": [
    "import pandas as pd\n",
    "import os\n",
    "import ipywidgets as widgets\n",
    "from ipywidgets import interact\n",
    "import projet"
   ]
  },
  {
   "cell_type": "code",
   "execution_count": 2,
   "id": "e7e158d3",
   "metadata": {
    "tags": []
   },
   "outputs": [],
   "source": [
    "#lancer uniquement la première fois pour obtenir la liste contenant l indantifiant unique du genome \n",
    "ecoli_genomes_file =os.path.join(projet.get_data_path(),\"Ecoli_genomes_refseq.xlsx\")\n",
    "ecoli_genomes_df = pd.read_excel(ecoli_genomes_file)\n",
    "identifiant_genome=ecoli_genomes_df.loc[:,\"Assembly Accession\"]"
   ]
  },
  {
   "cell_type": "markdown",
   "id": "03c078ee",
   "metadata": {},
   "source": [
    "# Choix des 2 génomes (initial et cible) , de la protéine d'intérêt et du systeme d'exploitation"
   ]
  },
  {
   "cell_type": "code",
   "execution_count": 3,
   "id": "5f1c1910-8c45-442c-957a-e63ebf92dbfe",
   "metadata": {
    "tags": []
   },
   "outputs": [],
   "source": [
    "my_os_type_widget=widgets.Dropdown(options=[\"win\",\"macos\",\"linux\"],  description=\"my_os_type\")\n",
    "assembly_accession_widget=widgets.Dropdown(value='GCF_001900435.1',options=identifiant_genome, description=\"assembly_accession\")\n",
    "subject_assembly_accession_widget=widgets.Dropdown(value='GCF_001901165.1',options=identifiant_genome,  description=\"subject_assembly_accession\")"
   ]
  },
  {
   "cell_type": "code",
   "execution_count": 5,
   "id": "19c73143-ae78-409b-abf6-42521cc88004",
   "metadata": {
    "tags": []
   },
   "outputs": [
    {
     "data": {
      "application/vnd.jupyter.widget-view+json": {
       "model_id": "6ffeff21b47e4beea62977451d5a5d68",
       "version_major": 2,
       "version_minor": 0
      },
      "text/plain": [
       "Dropdown(description='my_os_type', options=('win', 'macos', 'linux'), value='win')"
      ]
     },
     "metadata": {},
     "output_type": "display_data"
    },
    {
     "data": {
      "application/vnd.jupyter.widget-view+json": {
       "model_id": "25ab0aa65a784614beb77157857f7507",
       "version_major": 2,
       "version_minor": 0
      },
      "text/plain": [
       "Dropdown(description='assembly_accession', index=2, options=('GCF_001566615.1', 'GCF_001577325.1', 'GCF_001900…"
      ]
     },
     "metadata": {},
     "output_type": "display_data"
    },
    {
     "data": {
      "application/vnd.jupyter.widget-view+json": {
       "model_id": "5c69952e057c43bea2d8ea7e3181af83",
       "version_major": 2,
       "version_minor": 0
      },
      "text/plain": [
       "Dropdown(description='subject_assembly_accession', index=10, options=('GCF_001566615.1', 'GCF_001577325.1', 'G…"
      ]
     },
     "metadata": {},
     "output_type": "display_data"
    }
   ],
   "source": [
    "display(my_os_type_widget)\n",
    "display(assembly_accession_widget)\n",
    "display(subject_assembly_accession_widget)\n"
   ]
  },
  {
   "cell_type": "code",
   "execution_count": 6,
   "id": "1e63b614-f910-417c-b705-c4b40aae7a97",
   "metadata": {
    "tags": []
   },
   "outputs": [],
   "source": [
    "my_os_type=my_os_type_widget.value\n",
    "assembly_accession=assembly_accession_widget.value\n",
    "subject_assembly_accession=subject_assembly_accession_widget.value"
   ]
  },
  {
   "cell_type": "code",
   "execution_count": 7,
   "id": "03fad501-39d2-4fd7-b1cf-1baedac3ef4d",
   "metadata": {
    "tags": []
   },
   "outputs": [],
   "source": [
    "list_protein=projet.read_table_tsv(assembly_accession).loc[:,\"Protein_Id\"]\n",
    "list_protein_trie=list_protein.sort_values()\n",
    "protein_id_widget=widgets.Dropdown(options=list_protein_trie, description=\"protein_id\")"
   ]
  },
  {
   "cell_type": "code",
   "execution_count": 8,
   "id": "f0e190bc",
   "metadata": {
    "tags": []
   },
   "outputs": [
    {
     "data": {
      "application/vnd.jupyter.widget-view+json": {
       "model_id": "e2991e62b95a45ccbb3d91393391cedd",
       "version_major": 2,
       "version_minor": 0
      },
      "text/plain": [
       "Dropdown(description='protein_id', options=('WP_000002283.1', 'WP_000002471.1', 'WP_000002541.1', 'WP_00000290…"
      ]
     },
     "metadata": {},
     "output_type": "display_data"
    }
   ],
   "source": [
    "display(protein_id_widget)"
   ]
  },
  {
   "cell_type": "code",
   "execution_count": 8,
   "id": "4d59aea0-31b7-4c17-b653-13287f03eaa3",
   "metadata": {
    "tags": []
   },
   "outputs": [],
   "source": [
    "protein_id=protein_id_widget.value"
   ]
  },
  {
   "cell_type": "markdown",
   "id": "2391b779",
   "metadata": {},
   "source": [
    "# Récupération des ids des protéines amont, centre, aval sur le génome initial et de leur blasts respectifs sur le génome cible et lancement de la syntenie"
   ]
  },
  {
   "cell_type": "code",
   "execution_count": 9,
   "id": "4a339f44-7e34-4743-b17f-83268a6538ac",
   "metadata": {
    "tags": []
   },
   "outputs": [
    {
     "data": {
      "application/vnd.jupyter.widget-view+json": {
       "model_id": "4bc74a1140d0424782f419b4680d51c5",
       "version_major": 2,
       "version_minor": 0
      },
      "text/plain": [
       "Button(description='press_index', style=ButtonStyle())"
      ]
     },
     "metadata": {},
     "output_type": "display_data"
    }
   ],
   "source": [
    "def get_index_protein_upstream_downstream(result):\n",
    "    assembly_accession=assembly_accession_widget.value\n",
    "    protein_id=protein_id_widget.value\n",
    "    print(projet.get_proteins_upstream_downstream(protein_id, assembly_accession))\n",
    "index_button = widgets.Button(description=\"press_index\")\n",
    "index_button.on_click(get_index_protein_upstream_downstream)\n",
    "display(index_button)"
   ]
  },
  {
   "cell_type": "code",
   "execution_count": 10,
   "id": "9f94f962-e335-4cfb-838e-9e491c1e9658",
   "metadata": {
    "tags": []
   },
   "outputs": [
    {
     "data": {
      "application/vnd.jupyter.widget-view+json": {
       "model_id": "a674ed5313e94aba8708946333aed2aa",
       "version_major": 2,
       "version_minor": 0
      },
      "text/plain": [
       "Button(description='run_blastp', style=ButtonStyle())"
      ]
     },
     "metadata": {},
     "output_type": "display_data"
    }
   ],
   "source": [
    "def run_blastp_protein(result):\n",
    "    my_os_type=my_os_type_widget.value\n",
    "    assembly_accession=assembly_accession_widget.value\n",
    "    subject_assembly_accession=subject_assembly_accession_widget.value\n",
    "    protein_id=protein_id_widget.value\n",
    "    # Exécuter syntenie\n",
    "    print(projet.run_blastp(protein_id, assembly_accession, subject_assembly_accession, my_os_type))\n",
    "blastp_button = widgets.Button(description=\"run_blastp\")\n",
    "# Associer la fonction au clic sur le bouton\n",
    "blastp_button.on_click(run_blastp_protein)\n",
    "display(blastp_button)"
   ]
  },
  {
   "cell_type": "code",
   "execution_count": 11,
   "id": "f7989141-eadb-4f56-82a8-3f7cc398c1d4",
   "metadata": {
    "tags": []
   },
   "outputs": [
    {
     "data": {
      "application/vnd.jupyter.widget-view+json": {
       "model_id": "36f9cfcac72c40b08d431924dd655466",
       "version_major": 2,
       "version_minor": 0
      },
      "text/plain": [
       "Button(description='run_blastp_up', style=ButtonStyle())"
      ]
     },
     "metadata": {},
     "output_type": "display_data"
    }
   ],
   "source": [
    "def run_blastp_upstream(result):\n",
    "    my_os_type=my_os_type_widget.value\n",
    "    assembly_accession=assembly_accession_widget.value\n",
    "    subject_assembly_accession=subject_assembly_accession_widget.value\n",
    "    protein_id=protein_id_widget.value\n",
    "    # Exécuter syntenie\n",
    "    print(projet.info_best_hit_upstream(protein_id, assembly_accession, subject_assembly_accession, my_os_type))\n",
    "blastp_upstream_button = widgets.Button(description=\"run_blastp_up\")\n",
    "# Associer la fonction au clic sur le bouton\n",
    "blastp_upstream_button.on_click(run_blastp_upstream)\n",
    "display(blastp_upstream_button)"
   ]
  },
  {
   "cell_type": "code",
   "execution_count": 12,
   "id": "85c8a482-34dc-4f3a-9e1c-8d6a82390d33",
   "metadata": {
    "tags": []
   },
   "outputs": [
    {
     "data": {
      "application/vnd.jupyter.widget-view+json": {
       "model_id": "70639f457ef3481eb6a2ef46592fa8d5",
       "version_major": 2,
       "version_minor": 0
      },
      "text/plain": [
       "Button(description='run_blastp_down', style=ButtonStyle())"
      ]
     },
     "metadata": {},
     "output_type": "display_data"
    }
   ],
   "source": [
    "def run_blastp_downstream(result):\n",
    "    my_os_type=my_os_type_widget.value\n",
    "    assembly_accession=assembly_accession_widget.value\n",
    "    subject_assembly_accession=subject_assembly_accession_widget.value\n",
    "    protein_id=protein_id_widget.value\n",
    "    # Exécuter syntenie\n",
    "    print(projet.info_best_hit_downstream(protein_id, assembly_accession, subject_assembly_accession, my_os_type))\n",
    "blastp_downstream_button = widgets.Button(description=\"run_blastp_down\")\n",
    "# Associer la fonction au clic sur le bouton\n",
    "blastp_downstream_button.on_click(run_blastp_downstream)\n",
    "display(blastp_downstream_button)"
   ]
  },
  {
   "cell_type": "code",
   "execution_count": 16,
   "id": "7e273178-94fb-46a2-bee5-fd38c52c6cb0",
   "metadata": {
    "tags": []
   },
   "outputs": [
    {
     "data": {
      "application/vnd.jupyter.widget-view+json": {
       "model_id": "7d2b7443070c4c2ab63115c235a27ee4",
       "version_major": 2,
       "version_minor": 0
      },
      "text/plain": [
       "Button(description='get_synteny', style=ButtonStyle())"
      ]
     },
     "metadata": {},
     "output_type": "display_data"
    }
   ],
   "source": [
    "def synteny_clicked(result):\n",
    "    # Récupérer les valeurs sélectionnées\n",
    "    my_os_type=my_os_type_widget.value\n",
    "    assembly_accession=assembly_accession_widget.value\n",
    "    subject_assembly_accession=subject_assembly_accession_widget.value\n",
    "    protein_id=protein_id_widget.value\n",
    "    # Exécuter syntenie\n",
    "    result=projet.get_synteny_table(protein_id, assembly_accession, subject_assembly_accession, my_os_type)\n",
    "    print(result)\n",
    "synteny_button = widgets.Button(description=\"get_synteny\")\n",
    "# Associer la fonction au clic sur le bouton\n",
    "synteny_button.on_click(synteny_clicked)\n",
    "display(synteny_button)"
   ]
  },
  {
   "cell_type": "code",
   "execution_count": 14,
   "id": "328b9d62-96f2-49b8-9fcf-fedc236552bd",
   "metadata": {},
   "outputs": [
    {
     "data": {
      "text/html": [
       "<div>\n",
       "<style scoped>\n",
       "    .dataframe tbody tr th:only-of-type {\n",
       "        vertical-align: middle;\n",
       "    }\n",
       "\n",
       "    .dataframe tbody tr th {\n",
       "        vertical-align: top;\n",
       "    }\n",
       "\n",
       "    .dataframe thead th {\n",
       "        text-align: right;\n",
       "    }\n",
       "</style>\n",
       "<table border=\"1\" class=\"dataframe\">\n",
       "  <thead>\n",
       "    <tr style=\"text-align: right;\">\n",
       "      <th></th>\n",
       "      <th>Protein</th>\n",
       "      <th>Begin</th>\n",
       "      <th>End</th>\n",
       "      <th>Strand</th>\n",
       "      <th>Similarity</th>\n",
       "    </tr>\n",
       "  </thead>\n",
       "  <tbody>\n",
       "    <tr>\n",
       "      <th>upstream</th>\n",
       "      <td>[WP_001368422.1, RG48_RS23695, phnI]</td>\n",
       "      <td>4547438</td>\n",
       "      <td>4548499</td>\n",
       "      <td>+</td>\n",
       "      <td>NaN</td>\n",
       "    </tr>\n",
       "    <tr>\n",
       "      <th>blastp_up</th>\n",
       "      <td>WP_001297706.1</td>\n",
       "      <td>4581240</td>\n",
       "      <td>4582301</td>\n",
       "      <td>+</td>\n",
       "      <td>99.152542</td>\n",
       "    </tr>\n",
       "    <tr>\n",
       "      <th>protein_of_interest</th>\n",
       "      <td>[WP_000002283.1, RG48_RS23700, phnJ]</td>\n",
       "      <td>4548495</td>\n",
       "      <td>4549337</td>\n",
       "      <td>+</td>\n",
       "      <td>NaN</td>\n",
       "    </tr>\n",
       "    <tr>\n",
       "      <th>blastp_prot</th>\n",
       "      <td>WP_000002283.1</td>\n",
       "      <td>4582297</td>\n",
       "      <td>4583139</td>\n",
       "      <td>+</td>\n",
       "      <td>100.0</td>\n",
       "    </tr>\n",
       "    <tr>\n",
       "      <th>downstream</th>\n",
       "      <td>[WP_001075526.1, RG48_RS23705, phnK]</td>\n",
       "      <td>4549337</td>\n",
       "      <td>4550092</td>\n",
       "      <td>+</td>\n",
       "      <td>NaN</td>\n",
       "    </tr>\n",
       "    <tr>\n",
       "      <th>blastp_down</th>\n",
       "      <td>WP_001075526.1</td>\n",
       "      <td>4583139</td>\n",
       "      <td>4583894</td>\n",
       "      <td>+</td>\n",
       "      <td>100.0</td>\n",
       "    </tr>\n",
       "  </tbody>\n",
       "</table>\n",
       "</div>"
      ],
      "text/plain": [
       "                                                  Protein    Begin      End  \\\n",
       "upstream             [WP_001368422.1, RG48_RS23695, phnI]  4547438  4548499   \n",
       "blastp_up                                  WP_001297706.1  4581240  4582301   \n",
       "protein_of_interest  [WP_000002283.1, RG48_RS23700, phnJ]  4548495  4549337   \n",
       "blastp_prot                                WP_000002283.1  4582297  4583139   \n",
       "downstream           [WP_001075526.1, RG48_RS23705, phnK]  4549337  4550092   \n",
       "blastp_down                                WP_001075526.1  4583139  4583894   \n",
       "\n",
       "                    Strand Similarity  \n",
       "upstream                 +        NaN  \n",
       "blastp_up                +  99.152542  \n",
       "protein_of_interest      +        NaN  \n",
       "blastp_prot              +      100.0  \n",
       "downstream               +        NaN  \n",
       "blastp_down              +      100.0  "
      ]
     },
     "execution_count": 14,
     "metadata": {},
     "output_type": "execute_result"
    }
   ],
   "source": [
    "projet.get_synteny_table(protein_id, assembly_accession, subject_assembly_accession, my_os_type)"
   ]
  }
 ],
 "metadata": {
  "kernelspec": {
   "display_name": "Python 3 (ipykernel)",
   "language": "python",
   "name": "python3"
  },
  "language_info": {
   "codemirror_mode": {
    "name": "ipython",
    "version": 3
   },
   "file_extension": ".py",
   "mimetype": "text/x-python",
   "name": "python",
   "nbconvert_exporter": "python",
   "pygments_lexer": "ipython3",
   "version": "3.11.4"
  },
  "toc-autonumbering": false,
  "toc-showcode": false,
  "toc-showmarkdowntxt": true
 },
 "nbformat": 4,
 "nbformat_minor": 5
}
